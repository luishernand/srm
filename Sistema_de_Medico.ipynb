{
 "cells": [
  {
   "cell_type": "markdown",
   "metadata": {
    "id": "a7kdVw9pFWvN"
   },
   "source": [
    "# Sistema de Recomandación Médica Personalizada\n",
    "**Descripción**  \n",
    "Bienvenido a nuestro vanguardista Sistema de Recomendación Médica Personalizada, una poderosa plataforma diseñada para ayudar a los usuarios a comprender y administrar su salud. Aprovechando las capacidades del aprendizaje automático, nuestro sistema analiza los síntomas introducidos por el usuario para predecir enfermedades potenciales con precisión.   \n",
    "\n",
    "**Librerias**"
   ]
  },
  {
   "cell_type": "code",
   "execution_count": null,
   "metadata": {
    "id": "d8RX17mPGIEv"
   },
   "outputs": [],
   "source": [
    "import pandas as pd\n",
    "import numpy as np\n",
    "import warnings\n",
    "warnings.filterwarnings('ignore')"
   ]
  },
  {
   "cell_type": "markdown",
   "metadata": {
    "id": "FHGLcp1RGPZv"
   },
   "source": [
    "## Load data"
   ]
  },
  {
   "cell_type": "code",
   "execution_count": null,
   "metadata": {
    "id": "AEa-MsRjGSA8"
   },
   "outputs": [],
   "source": [
    "data = pd.read_csv('Training.csv')\n",
    "data.head()"
   ]
  },
  {
   "cell_type": "code",
   "execution_count": null,
   "metadata": {
    "id": "_gtYYC62Gckd"
   },
   "outputs": [],
   "source": [
    "data.shape"
   ]
  },
  {
   "cell_type": "code",
   "execution_count": null,
   "metadata": {
    "id": "0T9zo-sMGfB9"
   },
   "outputs": [],
   "source": [
    "#verificar datos nulos\n",
    "data.isnull().sum().sum()"
   ]
  },
  {
   "cell_type": "markdown",
   "metadata": {
    "id": "yexA02KQGjru"
   },
   "source": [
    "### Dividir los datos en train-test-aplit"
   ]
  },
  {
   "cell_type": "code",
   "execution_count": null,
   "metadata": {
    "id": "CbwuCg3BGtlF"
   },
   "outputs": [],
   "source": [
    "from sklearn.model_selection import train_test_split\n",
    "from sklearn.preprocessing import LabelEncoder"
   ]
  },
  {
   "cell_type": "code",
   "execution_count": null,
   "metadata": {
    "id": "DyfELqTnGxH1"
   },
   "outputs": [],
   "source": [
    "#seleccionar las variables y el target\n",
    "X = data.drop('prognosis', axis=1)\n",
    "y = data['prognosis']\n",
    "\n",
    "# encoding y\n",
    "le = LabelEncoder()\n",
    "Y = le.fit_transform(y)\n",
    "\n",
    "#dividir los datos en train-test-split\n",
    "X_train, X_test, y_train, y_test = train_test_split(X, Y, test_size=0.30, random_state=20)\n",
    "X_train.shape, X_test.shape, y_train.shape, y_test.shape"
   ]
  },
  {
   "cell_type": "markdown",
   "metadata": {
    "id": "VYqLOB12HVsO"
   },
   "source": [
    "## Models"
   ]
  },
  {
   "cell_type": "code",
   "execution_count": null,
   "metadata": {
    "id": "r-D03KcgHbW7"
   },
   "outputs": [],
   "source": [
    "from sklearn.datasets import make_classification\n",
    "from sklearn.ensemble import RandomForestClassifier, GradientBoostingClassifier\n",
    "from sklearn.svm import SVC\n",
    "from sklearn.neighbors import KNeighborsClassifier\n",
    "from sklearn.naive_bayes import MultinomialNB\n",
    "from sklearn.metrics import accuracy_score, classification_report, f1_score, confusion_matrix, recall_score, precision_score"
   ]
  },
  {
   "cell_type": "code",
   "execution_count": null,
   "metadata": {
    "id": "yJ_0-m2aH6BL"
   },
   "outputs": [],
   "source": [
    "#crear diccionario de los modelos a aplicar\n",
    "models = {\n",
    "    'Random Forest': RandomForestClassifier(),\n",
    "    'Gradient Boosting': GradientBoostingClassifier(),\n",
    "    'SVM': SVC(),\n",
    "    'KNN': KNeighborsClassifier(),\n",
    "    'Naive Bayes': MultinomialNB()\n",
    "}"
   ]
  },
  {
   "cell_type": "code",
   "execution_count": null,
   "metadata": {
    "id": "dzhdLqTmIGgk"
   },
   "outputs": [],
   "source": [
    "# realizar un loop para entrenar, prediccir y verificar el score de cada modelo\n",
    "for model_name, model in models.items():\n",
    "    model.fit(X_train, y_train)\n",
    "    y_pred = model.predict(X_test)\n",
    "\n",
    "    # calcular el score\n",
    "\n",
    "    accuracy = accuracy_score(y_test, y_pred)\n",
    "\n",
    "    print(f\"model: {model_name}\")\n",
    "    print('===================')\n",
    "    print(f\"Accuracy: {accuracy}\")\n",
    "    print(f\"Recall: {recall_score(y_test, y_pred, average='weighted')}\")\n",
    "    print(f\"Precision: {precision_score(y_test, y_pred, average='weighted')}\")"
   ]
  },
  {
   "cell_type": "markdown",
   "metadata": {
    "id": "ANqRbP6VI2Rs"
   },
   "source": [
    "### Predicción Simple"
   ]
  },
  {
   "cell_type": "code",
   "execution_count": null,
   "metadata": {
    "id": "hevjUQ6tK63L"
   },
   "outputs": [],
   "source": [
    "svc = SVC()\n",
    "svc.fit(X_train, y_train)\n",
    "y_pred = svc.predict(X_test)"
   ]
  },
  {
   "cell_type": "code",
   "execution_count": null,
   "metadata": {
    "id": "FmZEes9NK_Fd"
   },
   "outputs": [],
   "source": [
    "# Guardar el modelo\n",
    "import pickle\n",
    "with open('model.pkl', 'wb') as file:\n",
    "    pickle.dump(svc, file)"
   ]
  },
  {
   "cell_type": "code",
   "execution_count": null,
   "metadata": {
    "id": "NaLJwIHGTL9-"
   },
   "outputs": [],
   "source": [
    "#guardar laebl encoder\n",
    "with open('label_encoder.pkl', 'wb') as file:\n",
    "    pickle.dump(le, file)"
   ]
  },
  {
   "cell_type": "code",
   "execution_count": null,
   "metadata": {
    "id": "XO_-s6-nLFS7"
   },
   "outputs": [],
   "source": [
    "# predicción Muestreo:\n",
    "ex1 = X_test.iloc[0].values.reshape(1,-1)\n",
    "\n",
    "# Load the LabelEncoder object\n",
    "\n",
    "\n",
    "# Get the predicted label\n",
    "predicted_label = svc.predict(ex1)[0]\n",
    "\n",
    "# Use the LabelEncoder to get the actual disease name\n",
    "pred = le.inverse_transform([predicted_label])[0]\n",
    "actual = le.inverse_transform(y_test)[0]\n",
    "# Print the actual disease\n",
    "print('Predicción de Enfermedad: ', pred)\n",
    "print('Actual Disease: ', actual)"
   ]
  },
  {
   "cell_type": "markdown",
   "metadata": {
    "id": "9sZ78HyrL0q9"
   },
   "source": [
    "## Sistema de recomendación"
   ]
  },
  {
   "cell_type": "markdown",
   "metadata": {
    "id": "XL75nJOmMpK7"
   },
   "source": [
    "### Cargar datasets"
   ]
  },
  {
   "cell_type": "code",
   "execution_count": null,
   "metadata": {
    "id": "Gt4NPRVGOoQ7"
   },
   "outputs": [],
   "source": [
    "precaution = pd.read_csv('precaution.csv')\n",
    "symptoms = pd.read_csv('Symptom-severity.csv')\n",
    "workout = pd.read_csv('workout.csv')\n",
    "description = pd.read_csv('description.csv')\n",
    "medications = pd.read_csv('medications.csv')\n",
    "diets = pd.read_csv('diets.csv')"
   ]
  },
  {
   "cell_type": "code",
   "execution_count": null,
   "metadata": {
    "id": "I3sOG_RbZDn4"
   },
   "outputs": [],
   "source": [
    "workout.columns"
   ]
  },
  {
   "cell_type": "code",
   "execution_count": null,
   "metadata": {
    "id": "movDDaSEPZeU"
   },
   "outputs": [],
   "source": [
    "# funcion de filtros de datasets\n",
    "def helper(dis):\n",
    "  desc = description[description['Disease'] == predicted_disease]['Description']\n",
    "  desc = ' '.join(w for w in desc)\n",
    "\n",
    "  pre = precaution[precaution['Disease'] == predicted_disease][['Precaution_1', 'Precaution_2', 'Precaution_3', 'Precaution_4']]\n",
    "  pre = [col for col in pre.values]\n",
    "\n",
    "  med = medications[medications['Disease'] == dis]['Medication']\n",
    "  med = [col for col in med.values]\n",
    "\n",
    "  diet = diets[diets['Disease'] == dis]['Diet']\n",
    "  diet = [col for col in diet.values]\n",
    "\n",
    "  wrkout = workout[workout['disease'] == dis]['workout']\n",
    "  wrkout = [col for col in wrkout.values]\n",
    "\n",
    "  return desc, pre, med, diet, wrkout\n",
    "\n",
    "\n",
    "\n",
    "# Model Prediction function\n",
    "symptoms_dict = {'itching': 0, 'skin_rash': 1, 'nodal_skin_eruptions': 2, 'continuous_sneezing': 3, 'shivering': 4, 'chills': 5, 'joint_pain': 6, 'stomach_pain': 7, 'acidity': 8, 'ulcers_on_tongue': 9, 'muscle_wasting': 10, 'vomiting': 11, 'burning_micturition': 12, 'spotting_ urination': 13, 'fatigue': 14, 'weight_gain': 15, 'anxiety': 16, 'cold_hands_and_feets': 17, 'mood_swings': 18, 'weight_loss': 19, 'restlessness': 20, 'lethargy': 21, 'patches_in_throat': 22, 'irregular_sugar_level': 23, 'cough': 24, 'high_fever': 25, 'sunken_eyes': 26, 'breathlessness': 27, 'sweating': 28, 'dehydration': 29, 'indigestion': 30, 'headache': 31, 'yellowish_skin': 32, 'dark_urine': 33, 'nausea': 34, 'loss_of_appetite': 35, 'pain_behind_the_eyes': 36, 'back_pain': 37, 'constipation': 38, 'abdominal_pain': 39, 'diarrhoea': 40, 'mild_fever': 41, 'yellow_urine': 42, 'yellowing_of_eyes': 43, 'acute_liver_failure': 44, 'fluid_overload': 45, 'swelling_of_stomach': 46, 'swelled_lymph_nodes': 47, 'malaise': 48, 'blurred_and_distorted_vision': 49, 'phlegm': 50, 'throat_irritation': 51, 'redness_of_eyes': 52, 'sinus_pressure': 53, 'runny_nose': 54, 'congestion': 55, 'chest_pain': 56, 'weakness_in_limbs': 57, 'fast_heart_rate': 58, 'pain_during_bowel_movements': 59, 'pain_in_anal_region': 60, 'bloody_stool': 61, 'irritation_in_anus': 62, 'neck_pain': 63, 'dizziness': 64, 'cramps': 65, 'bruising': 66, 'obesity': 67, 'swollen_legs': 68, 'swollen_blood_vessels': 69, 'puffy_face_and_eyes': 70, 'enlarged_thyroid': 71, 'brittle_nails': 72, 'swollen_extremeties': 73, 'excessive_hunger': 74, 'extra_marital_contacts': 75, 'drying_and_tingling_lips': 76, 'slurred_speech': 77, 'knee_pain': 78, 'hip_joint_pain': 79, 'muscle_weakness': 80, 'stiff_neck': 81, 'swelling_joints': 82, 'movement_stiffness': 83, 'spinning_movements': 84, 'loss_of_balance': 85, 'unsteadiness': 86, 'weakness_of_one_body_side': 87, 'loss_of_smell': 88, 'bladder_discomfort': 89, 'foul_smell_of urine': 90, 'continuous_feel_of_urine': 91, 'passage_of_gases': 92, 'internal_itching': 93, 'toxic_look_(typhos)': 94, 'depression': 95, 'irritability': 96, 'muscle_pain': 97, 'altered_sensorium': 98, 'red_spots_over_body': 99, 'belly_pain': 100, 'abnormal_menstruation': 101, 'dischromic _patches': 102, 'watering_from_eyes': 103, 'increased_appetite': 104, 'polyuria': 105, 'family_history': 106, 'mucoid_sputum': 107, 'rusty_sputum': 108, 'lack_of_concentration': 109, 'visual_disturbances': 110, 'receiving_blood_transfusion': 111, 'receiving_unsterile_injections': 112, 'coma': 113, 'stomach_bleeding': 114, 'distention_of_abdomen': 115, 'history_of_alcohol_consumption': 116, 'fluid_overload.1': 117, 'blood_in_sputum': 118, 'prominent_veins_on_calf': 119, 'palpitations': 120, 'painful_walking': 121, 'pus_filled_pimples': 122, 'blackheads': 123, 'scurring': 124, 'skin_peeling': 125, 'silver_like_dusting': 126, 'small_dents_in_nails': 127, 'inflammatory_nails': 128, 'blister': 129, 'red_sore_around_nose': 130, 'yellow_crust_ooze': 131}\n",
    "diseases_list = {15: 'Fungal infection', 4: 'Allergy', 16: 'GERD', 9: 'Chronic cholestasis', 14: 'Drug Reaction', 33: 'Peptic ulcer diseae', 1: 'AIDS', 12: 'Diabetes ', 17: 'Gastroenteritis', 6: 'Bronchial Asthma', 23: 'Hypertension ', 30: 'Migraine', 7: 'Cervical spondylosis', 32: 'Paralysis (brain hemorrhage)', 28: 'Jaundice', 29: 'Malaria', 8: 'Chicken pox', 11: 'Dengue', 37: 'Typhoid', 40: 'hepatitis A', 19: 'Hepatitis B', 20: 'Hepatitis C', 21: 'Hepatitis D', 22: 'Hepatitis E', 3: 'Alcoholic hepatitis', 36: 'Tuberculosis', 10: 'Common Cold', 34: 'Pneumonia', 13: 'Dimorphic hemmorhoids(piles)', 18: 'Heart attack', 39: 'Varicose veins', 26: 'Hypothyroidism', 24: 'Hyperthyroidism', 25: 'Hypoglycemia', 31: 'Osteoarthristis', 5: 'Arthritis', 0: '(vertigo) Paroymsal  Positional Vertigo', 2: 'Acne', 38: 'Urinary tract infection', 35: 'Psoriasis', 27: 'Impetigo'}\n",
    "\n",
    "# Model Prediction function\n",
    "def get_predicted_value(patient_symptoms):\n",
    "    input_vector = np.zeros(len(symptoms_dict))\n",
    "    for item in patient_symptoms:\n",
    "        input_vector[symptoms_dict[item]] = 1\n",
    "    return diseases_list[svc.predict([input_vector])[0]]"
   ]
  },
  {
   "cell_type": "code",
   "execution_count": null,
   "metadata": {
    "id": "3RazN8G6QDTp"
   },
   "outputs": [],
   "source": [
    "sintomas = input('Ingrese los sintomas separados por coma: ')\n",
    "sintomas_paciente = [s.strip() for s in sintomas.split(',')]\n",
    "sintomas_paciente = [sintomas.strip(\"[]' \") for sintomas in sintomas_paciente]\n",
    "predicted_disease = get_predicted_value(sintomas_paciente)\n",
    "\n",
    "desc, pre, med, diet, wrkout = helper(predicted_disease)\n",
    "\n",
    "print('---------------Tipo de enfermedad------------------')\n",
    "print(predicted_disease)\n",
    "print('---------------Descripción de la enfermedad--------')\n",
    "print(desc)\n",
    "print('---------------Precauciones------------------------')\n",
    "i=1\n",
    "for p in pre:\n",
    "  print(i,p)\n",
    "  i+=1\n",
    "print('---------------Medicamentos------------------------')\n",
    "i =1\n",
    "for m in med:\n",
    "  print(i,m)\n",
    "  i+=1\n",
    "print('---------------Dietas------------------------------')\n",
    "i=1\n",
    "for d in diet:\n",
    "  print(i,d)\n",
    "  i+=1\n",
    "print('---------------Recomendaciones--------------------------')\n",
    "i=1\n",
    "for w in wrkout:\n",
    "  print(i,w)\n",
    "  i+=1"
   ]
  },
  {
   "cell_type": "code",
   "execution_count": null,
   "metadata": {
    "id": "-dqXcM_qRrA-"
   },
   "outputs": [],
   "source": []
  }
 ],
 "metadata": {
  "colab": {
   "private_outputs": true,
   "provenance": []
  },
  "kernelspec": {
   "display_name": "Python 3 (ipykernel)",
   "language": "python",
   "name": "python3"
  },
  "language_info": {
   "codemirror_mode": {
    "name": "ipython",
    "version": 3
   },
   "file_extension": ".py",
   "mimetype": "text/x-python",
   "name": "python",
   "nbconvert_exporter": "python",
   "pygments_lexer": "ipython3",
   "version": "3.11.8"
  }
 },
 "nbformat": 4,
 "nbformat_minor": 4
}
